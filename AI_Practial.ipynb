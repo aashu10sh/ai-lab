{
  "nbformat": 4,
  "nbformat_minor": 0,
  "metadata": {
    "colab": {
      "provenance": []
    },
    "kernelspec": {
      "name": "python3",
      "display_name": "Python 3"
    },
    "language_info": {
      "name": "python"
    }
  },
  "cells": [
    {
      "cell_type": "markdown",
      "source": [
        "# Lab 1 - Write programs for implementing simple intelligent agents."
      ],
      "metadata": {
        "id": "qquAKvK0rZJ0"
      }
    },
    {
      "cell_type": "code",
      "execution_count": 3,
      "metadata": {
        "id": "vPlLfTHgps57"
      },
      "outputs": [],
      "source": [
        "# Lab 1\n",
        "# Vaccum Cleaner Agent\n",
        "from enum import Enum\n",
        "\n",
        "class TileStatus(Enum):\n",
        "  DIRTY = \"DIRTY\"\n",
        "  CLEAN = \"CLEAN\"\n",
        "\n",
        "class Location(Enum):\n",
        "  LEFT = \"LEFT\"\n",
        "  RIGHT = \"RIGHT\"\n",
        "\n",
        "class Action(Enum):\n",
        "  SUCK_TILE = \"SUCK_TILE\"\n",
        "  MOVE_LEFT = \"MOVE_LEFT\"\n",
        "  MOVE_RIGHT = \"MOVE_RIGHT\"\n",
        "\n",
        "def vaccum_agent(location : Location, status : TileStatus)-> TileStatus | Action:\n",
        "  if status == TileStatus.DIRTY:\n",
        "    return Action.SUCK_TILE\n",
        "  match location:\n",
        "    case Location.LEFT:\n",
        "      return Action.MOVE_RIGHT\n",
        "    case Location.RIGHT:\n",
        "      return Action.MOVE_LEFT\n",
        "    case _:\n",
        "      raise Exception(\"This Should Never Happen, All States must be defined\")"
      ]
    },
    {
      "cell_type": "code",
      "source": [
        "# Traffic Light Agent\n",
        "class TrafficStates(Enum):\n",
        "  RED = 1\n",
        "  GREEN = 2\n",
        "  YELLOW = 3\n",
        "\n",
        "def traffic_light(current_state : TrafficStates) -> TrafficStates:\n",
        "  match current_state:\n",
        "    case TrafficStates.RED:\n",
        "      return TrafficStates.GREEN\n",
        "    case TrafficStates.YELLOW:\n",
        "      return TrafficStates.RED\n",
        "    case TrafficStates.GREEN:\n",
        "      return TrafficStates.YELLOW\n",
        "    case _:\n",
        "      raise Exception(\"Undefined State\")"
      ],
      "metadata": {
        "id": "wWh6zqL86wtR"
      },
      "execution_count": 4,
      "outputs": []
    },
    {
      "cell_type": "code",
      "execution_count": 13,
      "metadata": {
        "id": "iQLi6ooJlaV1",
        "colab": {
          "base_uri": "https://localhost:8080/"
        },
        "outputId": "cd0a888e-6493-4bc2-b6b0-0d889c3f4ba3"
      },
      "outputs": [
        {
          "output_type": "stream",
          "name": "stdout",
          "text": [
            "Action.SUCK_TILE\n",
            "Action.MOVE_RIGHT\n",
            "Action.MOVE_LEFT\n",
            "TrafficStates.GREEN\n",
            "TrafficStates.YELLOW\n",
            "TrafficStates.RED\n"
          ]
        }
      ],
      "source": [
        "# Lab 1 Run\n",
        "print(vaccum_agent(Location.RIGHT, TileStatus.DIRTY))\n",
        "print(vaccum_agent(Location.LEFT, TileStatus.CLEAN))\n",
        "print(vaccum_agent(Location.RIGHT, TileStatus.CLEAN))\n",
        "print(traffic_light(TrafficStates.RED))\n",
        "print(traffic_light(TrafficStates.GREEN))\n",
        "print(traffic_light(TrafficStates.YELLOW))"
      ]
    },
    {
      "cell_type": "markdown",
      "source": [
        "# Lab 2 - Various Search Algorithms"
      ],
      "metadata": {
        "id": "nhEn4i8CtTLk"
      }
    },
    {
      "cell_type": "code",
      "source": [
        "# Node class\n",
        "from typing import List, Set\n",
        "\n",
        "class Node:\n",
        "    def __init__(self, value: str) -> None:\n",
        "        self.value = value\n",
        "        self.children: List[Node] = []\n",
        "\n",
        "    def add_child(self, child_node: 'Node') -> None:\n",
        "        self.children.append(child_node)\n"
      ],
      "metadata": {
        "id": "wnX910KrsOKW"
      },
      "execution_count": 17,
      "outputs": []
    },
    {
      "cell_type": "code",
      "source": [
        "def dfs(start_node: Node) -> None:\n",
        "    \"\"\"Depth-First Search\"\"\"\n",
        "    visited: Set[Node] = set()\n",
        "    stack: List[Node] = [start_node]\n",
        "\n",
        "    while stack:\n",
        "        node = stack.pop()\n",
        "        if node not in visited:\n",
        "            visited.add(node)\n",
        "            print(node.value)\n",
        "            for child in node.children[::-1]:\n",
        "                stack.append(child)\n",
        "\n",
        "def bfs(start_node: Node) -> None:\n",
        "    \"\"\"Breadth-First Search\"\"\"\n",
        "    visited: Set[Node] = set()\n",
        "    queue: List[Node] = [start_node]\n",
        "\n",
        "    while queue:\n",
        "        node = queue.pop(0)\n",
        "        if node not in visited:\n",
        "            visited.add(node)\n",
        "            print(node.value)\n",
        "            for child in node.children:\n",
        "                queue.append(child)\n",
        ""
      ],
      "metadata": {
        "id": "ZOukukYirXyJ"
      },
      "execution_count": 18,
      "outputs": []
    },
    {
      "cell_type": "code",
      "source": [
        "root = Node(\"A\")\n",
        "b = Node(\"B\")\n",
        "c = Node(\"C\")\n",
        "d = Node(\"D\")\n",
        "e = Node(\"E\")\n",
        "f = Node(\"F\")\n",
        "g = Node(\"G\")\n",
        "\n",
        "root.add_child(b)\n",
        "root.add_child(c)\n",
        "b.add_child(d)\n",
        "b.add_child(e)\n",
        "c.add_child(f)\n",
        "c.add_child(g)\n",
        "\n",
        "# Depth-First Search\n",
        "print(\"DFS:\")\n",
        "dfs(root)\n",
        "print()\n",
        "\n",
        "# Breadth-First Search\n",
        "print(\"BFS:\")\n",
        "bfs(root)"
      ],
      "metadata": {
        "colab": {
          "base_uri": "https://localhost:8080/"
        },
        "id": "XctvkbjysRVq",
        "outputId": "28fb7aac-cecd-4ecd-d242-cfd31a68060d"
      },
      "execution_count": 20,
      "outputs": [
        {
          "output_type": "stream",
          "name": "stdout",
          "text": [
            "DFS:\n",
            "A\n",
            "B\n",
            "D\n",
            "E\n",
            "C\n",
            "F\n",
            "G\n",
            "\n",
            "BFS:\n",
            "A\n",
            "B\n",
            "C\n",
            "D\n",
            "E\n",
            "F\n",
            "G\n"
          ]
        }
      ]
    },
    {
      "cell_type": "code",
      "source": [
        "from queue import PriorityQueue\n",
        "\n",
        "def a_star(graph, start, goal, h):\n",
        "    open_set = PriorityQueue()\n",
        "    open_set.put((0, start))\n",
        "    g = {start: 0}\n",
        "    while not open_set.empty():\n",
        "        _, current = open_set.get()\n",
        "        if current == goal:\n",
        "            return g[goal]\n",
        "        for neighbor, cost in graph[current].items():\n",
        "            tentative_g = g[current] + cost\n",
        "            if neighbor not in g or tentative_g < g[neighbor]:\n",
        "                g[neighbor] = tentative_g\n",
        "                f = tentative_g + h[neighbor]\n",
        "                open_set.put((f, neighbor))\n",
        "    return float(\"inf\")\n",
        "\n",
        "# A* Algorithm\n",
        "graph = {'A': {'B': 1, 'C': 4}, 'B': {'A': 1, 'D': 5, 'E': 12}, 'C': {'A': 4, 'F': 3}, 'D': {'B': 5}, 'E': {'B': 12, 'F': 2}, 'F': {'C': 3, 'E': 2}}\n",
        "heuristic = {'A': 7, 'B': 6, 'C': 2, 'D': 1, 'E': 0, 'F': 3}\n",
        "print(a_star(graph, 'A', 'E', heuristic))"
      ],
      "metadata": {
        "colab": {
          "base_uri": "https://localhost:8080/"
        },
        "id": "IBeuzUNswbl8",
        "outputId": "17041487-00b6-4adb-9c2b-3c2385a8c3dc"
      },
      "execution_count": 25,
      "outputs": [
        {
          "output_type": "stream",
          "name": "stdout",
          "text": [
            "9\n"
          ]
        }
      ]
    },
    {
      "cell_type": "code",
      "source": [
        "# Greedy Best Search Algorithm\n",
        "from queue import PriorityQueue\n",
        "graph = {\n",
        "    'A': [('B', 1), ('C', 3)],\n",
        "    'B': [('D', 5), ('E', 12)],\n",
        "    'C': [('F', 7)],\n",
        "    'D': [],\n",
        "    'E': [('G', 2)],\n",
        "    'F': [('G', 1)],\n",
        "    'G': []\n",
        "}\n",
        "heuristics = {\n",
        "    'A': 10,\n",
        "    'B': 4,\n",
        "    'C': 6,\n",
        "    'D': 7,\n",
        "    'E': 2,\n",
        "    'F': 3,\n",
        "    'G': 0\n",
        "}\n",
        "\n",
        "def greedy_best_first_search(start, goal):\n",
        "    visited = set()\n",
        "    pq = PriorityQueue()\n",
        "    pq.put((heuristics[start], start))\n",
        "\n",
        "    print(\"Path:\")\n",
        "    while not pq.empty():\n",
        "        _, current = pq.get()\n",
        "        print(current, end=\" \")\n",
        "        if current == goal:\n",
        "            print(\"\\nGoal reached\")\n",
        "            return\n",
        "        visited.add(current)\n",
        "\n",
        "        for neighbor, _ in graph[current]:\n",
        "            if neighbor not in visited:\n",
        "                pq.put((heuristics[neighbor], neighbor))\n",
        "\n",
        "start_node = 'A'\n",
        "goal_node = 'G'\n",
        "greedy_best_first_search(start_node, goal_node)"
      ],
      "metadata": {
        "colab": {
          "base_uri": "https://localhost:8080/"
        },
        "id": "yAqAoOUvxaaF",
        "outputId": "9d075172-26ba-4ca4-e36c-f4d4ae817711"
      },
      "execution_count": 77,
      "outputs": [
        {
          "output_type": "stream",
          "name": "stdout",
          "text": [
            "Path:\n",
            "A B E G \n",
            "Goal reached\n"
          ]
        }
      ]
    },
    {
      "cell_type": "code",
      "source": [],
      "metadata": {
        "id": "xkWXUD1GJypX"
      },
      "execution_count": 78,
      "outputs": []
    },
    {
      "cell_type": "markdown",
      "source": [
        "# Lab - 3 Knowledge Based Questions\n"
      ],
      "metadata": {
        "id": "KHOX4xX-yOnr"
      }
    },
    {
      "cell_type": "code",
      "source": [
        "# Rule Based System (program with if then rules)\n",
        "def diagnose_disease(symptoms):\n",
        "\n",
        "    disease_rules = {\n",
        "        'Flu': {'fever', 'cough'},\n",
        "        'Migraine': {'fever', 'headache'},\n",
        "        'Common Cold': {'cough', 'headache'},\n",
        "        'Infection': {'fever'},\n",
        "        'Respiratory Infection': {'cough'},\n",
        "        'Tension Headache': {'headache'}\n",
        "    }\n",
        "\n",
        "    for disease, required_symptoms in disease_rules.items():\n",
        "        if required_symptoms.issubset(symptoms):\n",
        "            return disease\n",
        "\n",
        "    return 'Diagnosis Uncertain'\n",
        ""
      ],
      "metadata": {
        "id": "OJ1bpy-1yR37"
      },
      "execution_count": 34,
      "outputs": []
    },
    {
      "cell_type": "code",
      "source": [
        "# Rule Based Run\n",
        "symptoms = [\"fever\",\"cold\",\"headache\"]\n",
        "disease = diagnose_disease(symptoms)\n",
        "print(f\"Possible Disease: {disease}\")"
      ],
      "metadata": {
        "colab": {
          "base_uri": "https://localhost:8080/"
        },
        "id": "7TyljVlg9GQI",
        "outputId": "504c2551-189f-4f80-e2be-9e9324051a38"
      },
      "execution_count": 35,
      "outputs": [
        {
          "output_type": "stream",
          "name": "stdout",
          "text": [
            "Possible Disease: Migraine\n"
          ]
        }
      ]
    },
    {
      "cell_type": "code",
      "source": [
        "# Predicate Based System (using predicates like in Prolog)\n",
        "class PredicateKnowledgeBase:\n",
        "    def __init__(self):\n",
        "        self.facts = set()\n",
        "        self.rules = []\n",
        "\n",
        "    def add_fact(self, fact):\n",
        "        self.facts.add(fact)\n",
        "\n",
        "    def add_rule(self, premise, conclusion):\n",
        "        self.rules.append((premise, conclusion))\n",
        "\n",
        "    def infer(self, query):\n",
        "        for premise, conclusion in self.rules:\n",
        "            if premise in self.facts and conclusion not in self.facts:\n",
        "                self.add_fact(conclusion)\n",
        "                print(f\"Inferred: '{conclusion}' based on '{premise}'\")\n",
        "\n",
        "        return query in self.facts"
      ],
      "metadata": {
        "id": "_HKKzlre9aX-"
      },
      "execution_count": 82,
      "outputs": []
    },
    {
      "cell_type": "code",
      "source": [
        "# Predicate RUN\n",
        "kb = PredicateKnowledgeBase()\n",
        "\n",
        "kb.add_fact(\"Alice is a parent of Bob\")\n",
        "kb.add_fact(\"Bob is a parent of Charlie\")\n",
        "\n",
        "kb.add_rule(\"Alice is a parent of Bob\", \"Bob is a child of Alice\")\n",
        "kb.add_rule(\"Bob is a parent of Charlie\", \"Charlie is a grandchild of Alice\")\n",
        "\n",
        "query = \"Charlie is a grandchild of Alice\"\n",
        "if kb.infer(query):\n",
        "    print(f\"{query} is known.\")\n",
        "else:\n",
        "    print(f\"{query} is not known.\")"
      ],
      "metadata": {
        "colab": {
          "base_uri": "https://localhost:8080/"
        },
        "id": "leR4_d2e90zx",
        "outputId": "21691862-a39d-4402-e44e-283e0afaace2"
      },
      "execution_count": 83,
      "outputs": [
        {
          "output_type": "stream",
          "name": "stdout",
          "text": [
            "Inferred: 'Bob is a child of Alice' based on 'Alice is a parent of Bob'\n",
            "Inferred: 'Charlie is a grandchild of Alice' based on 'Bob is a parent of Charlie'\n",
            "Charlie is a grandchild of Alice is known.\n"
          ]
        }
      ]
    },
    {
      "cell_type": "code",
      "source": [
        "# Frame Based Question\n",
        "class Frame:\n",
        "    def __init__(self, name, nationality, diet, location):\n",
        "        self.name = name\n",
        "        self.nationality = nationality\n",
        "        self.diet = diet\n",
        "        self.location = location\n",
        "\n",
        "    def display(self):\n",
        "        print(f\"Name: {self.name}\")\n",
        "        print(f\"Nationality: {self.nationality}\")\n",
        "        print(f\"Diet: {self.diet}\")\n",
        "        print(f\"Location: {self.location}\")\n",
        "        print()\n",
        "\n",
        "class PersonFrame(Frame):\n",
        "    def __init__(self, name, nationality, diet, location, language, greeting):\n",
        "        super().__init__(name, nationality, diet, location)\n",
        "        self.language = language\n",
        "        self.greeting = greeting\n",
        "\n",
        "    def say_hello(self):\n",
        "        print(f\"{self.name} greets you in {self.language}: {self.greeting}\")\n",
        ""
      ],
      "metadata": {
        "id": "DtymPb34BO_Z"
      },
      "execution_count": 84,
      "outputs": []
    },
    {
      "cell_type": "code",
      "source": [
        "# Frame based Solutions\n",
        "john = PersonFrame(name=\"John\", nationality=\"American\", diet=\"Omnivore\", location=\"New York, USA\", language=\"English\", greeting=\"Hello!\")\n",
        "maria = PersonFrame(name=\"Maria\", nationality=\"Spanish\", diet=\"Mediterranean\", location=\"Madrid, Spain\", language=\"Spanish\", greeting=\"¡Hola!\")\n",
        "\n",
        "john.display()\n",
        "maria.display()\n",
        "\n",
        "john.say_hello()\n",
        "maria.say_hello()"
      ],
      "metadata": {
        "colab": {
          "base_uri": "https://localhost:8080/"
        },
        "id": "6I8vwrAqBUlE",
        "outputId": "6913348f-0063-433a-a602-62384113477d"
      },
      "execution_count": 59,
      "outputs": [
        {
          "output_type": "stream",
          "name": "stdout",
          "text": [
            "Name: John\n",
            "Nationality: American\n",
            "Diet: Omnivore\n",
            "Location: New York, USA\n",
            "\n",
            "Name: Maria\n",
            "Nationality: Spanish\n",
            "Diet: Mediterranean\n",
            "Location: Madrid, Spain\n",
            "\n",
            "John greets you in English: Hello!\n",
            "Maria greets you in Spanish: ¡Hola!\n"
          ]
        }
      ]
    },
    {
      "cell_type": "code",
      "source": [
        "# Semantic Network\n",
        "import networkx as nx\n",
        "import matplotlib.pyplot as plt\n",
        "\n",
        "def create_animal_semantic_network():\n",
        "    G = nx.DiGraph()\n",
        "\n",
        "    G.add_node(\"animal\")\n",
        "    G.add_node(\"mammal\")\n",
        "    G.add_node(\"fish\")\n",
        "    G.add_node(\"dog\")\n",
        "    G.add_node(\"whale\")\n",
        "    G.add_node(\"goldfish\")\n",
        "    G.add_node(\"tail\")\n",
        "    G.add_node(\"fins\")\n",
        "    G.add_node(\"barks\")\n",
        "    G.add_node(\"swims\")\n",
        "    G.add_node(\"large\")\n",
        "    G.add_node(\"water\")\n",
        "\n",
        "    G.add_edge(\"mammal\", \"animal\", label=\"is_a\")\n",
        "    G.add_edge(\"fish\", \"animal\", label=\"is_a\")\n",
        "    G.add_edge(\"dog\", \"mammal\", label=\"is_a\")\n",
        "    G.add_edge(\"whale\", \"mammal\", label=\"is_a\")\n",
        "    G.add_edge(\"goldfish\", \"fish\", label=\"is_a\")\n",
        "    G.add_edge(\"animal\", \"eats\", label=\"can_do\")\n",
        "    G.add_edge(\"animal\", \"moves\", label=\"can_do\")\n",
        "    G.add_edge(\"dog\", \"barks\", label=\"can_do\")\n",
        "    G.add_edge(\"dog\", \"tail\", label=\"has\")\n",
        "    G.add_edge(\"whale\", \"large\", label=\"is\")\n",
        "    G.add_edge(\"whale\", \"swims\", label=\"can_do\")\n",
        "    G.add_edge(\"whale\", \"water\", label=\"lives_in\")\n",
        "    G.add_edge(\"goldfish\", \"swims\", label=\"can_do\")\n",
        "    G.add_edge(\"goldfish\", \"fins\", label=\"has\")\n",
        "    G.add_edge(\"fish\", \"water\", label=\"lives_in\")\n",
        "\n",
        "    return G\n",
        "\n",
        "animal_semantic_network = create_animal_semantic_network()\n",
        "\n",
        "plt.figure(figsize=(10, 8))\n",
        "pos = nx.spring_layout(animal_semantic_network)\n",
        "nx.draw(animal_semantic_network, pos, with_labels=True, font_size=10, node_size=3000, node_color=\"skyblue\", font_weight=\"bold\", arrows=True)\n",
        "edge_labels = nx.get_edge_attributes(animal_semantic_network, 'label')\n",
        "nx.draw_networkx_edge_labels(animal_semantic_network, pos, edge_labels=edge_labels, font_size=9)\n",
        "plt.title(\"Animal Semantic Network\")\n",
        "plt.show()"
      ],
      "metadata": {
        "colab": {
          "base_uri": "https://localhost:8080/",
          "height": 859
        },
        "id": "qwr_8pdBCI0W",
        "outputId": "dacea44c-f022-476f-f5e7-d127a4416b62"
      },
      "execution_count": 61,
      "outputs": [
        {
          "output_type": "display_data",
          "data": {
            "text/plain": [
              "<Figure size 1000x800 with 1 Axes>"
            ],
            "image/png": "[encoded data removed]"
          },
          "metadata": {}
        }
      ]
    },
    {
      "cell_type": "markdown",
      "source": [
        "# Lab 4 - Machine Learning"
      ],
      "metadata": {
        "id": "9N0S830ZMX32"
      }
    },
    {
      "cell_type": "code",
      "source": [
        "# Naive Bayes\n",
        "from sklearn.preprocessing import LabelEncoder\n",
        "from sklearn.naive_bayes import GaussianNB\n",
        "\n",
        "data = {\n",
        "    \"Outlook\": [\"Sunny\", \"Overcast\", \"Rainy\", \"Sunny\", \"Sunny\", \"Overcast\", \"Rainy\"],\n",
        "    \"Temp\": [\"Hot\", \"Hot\", \"Mild\", \"Cool\", \"Hot\", \"Mild\", \"Cool\"],\n",
        "    \"Humidity\": [\"High\", \"High\", \"High\", \"Normal\", \"Normal\", \"Normal\", \"High\"],\n",
        "    \"Windy\": [\"False\", \"True\", \"False\", \"False\", \"True\", \"True\", \"False\"],\n",
        "    \"Play\": [\"No\", \"Yes\", \"Yes\", \"Yes\", \"No\", \"Yes\", \"No\"]\n",
        "}\n",
        "\n",
        "df = pd.DataFrame(data)\n",
        "\n",
        "encoders = {col: LabelEncoder() for col in df.columns if col != \"Play\"}\n",
        "inputs_encoded = df.copy()\n",
        "\n",
        "for col, encoder in encoders.items():\n",
        "    inputs_encoded[col] = encoder.fit_transform(df[col])\n",
        "\n",
        "inputs = inputs_encoded.drop(\"Play\", axis=\"columns\")\n",
        "target = df[\"Play\"]\n",
        "\n",
        "classifier = GaussianNB()\n",
        "classifier.fit(inputs, target)\n",
        "print(\"GaussianNB Model Trained\")\n",
        "\n",
        "predicted = classifier.predict(inputs)\n",
        "print(\"Predictions:\", predicted)\n"
      ],
      "metadata": {
        "colab": {
          "base_uri": "https://localhost:8080/"
        },
        "id": "XoHa9IfFC2U7",
        "outputId": "51ab3984-581f-424d-ab05-5af413e9e0ee"
      },
      "execution_count": 65,
      "outputs": [
        {
          "output_type": "stream",
          "name": "stdout",
          "text": [
            "GaussianNB Model Trained\n",
            "Predictions: ['No' 'Yes' 'Yes' 'No' 'No' 'Yes' 'No']\n"
          ]
        }
      ]
    },
    {
      "cell_type": "code",
      "source": [
        "# Write programfor implementing Neural Networks for realization of AND, OR gates.\n",
        "\n",
        "import numpy as np\n",
        "\n",
        "def sigmoid(x):\n",
        "    return 1 / (1 + np.exp(-x))\n",
        "\n",
        "def sigmoid_derivative(x):\n",
        "    return x * (1 - x)\n",
        "\n",
        "learning_rate = 0.1\n",
        "epochs = 10000\n",
        "\n",
        "def train_gate(inputs, labels):\n",
        "    weights = np.random.rand(2, 1)\n",
        "    bias = np.random.rand(1)\n",
        "\n",
        "    for _ in range(epochs):\n",
        "        z = np.dot(inputs, weights) + bias\n",
        "        outputs = sigmoid(z)\n",
        "\n",
        "        error = labels - outputs\n",
        "        adjustments = error * sigmoid_derivative(outputs)\n",
        "        weights += np.dot(inputs.T, adjustments) * learning_rate\n",
        "        bias += np.sum(adjustments) * learning_rate\n",
        "\n",
        "    return sigmoid(np.dot(inputs, weights) + bias).round()\n",
        "\n",
        "inputs = np.array([[0, 0], [0, 1], [1, 0], [1, 1]])\n",
        "labels_and = np.array([[0], [0], [0], [1]])  # AND gate\n",
        "labels_or = np.array([[0], [1], [1], [1]])   # OR gate\n",
        "\n",
        "print(\"Predictions for AND Gate:\", train_gate(inputs, labels_and).flatten())\n",
        "print(\"Predictions for OR Gate:\", train_gate(inputs, labels_or).flatten())\n"
      ],
      "metadata": {
        "colab": {
          "base_uri": "https://localhost:8080/"
        },
        "id": "7Agg0l8zD3uJ",
        "outputId": "c3bcc560-28c4-4274-f45e-ddaee3576239"
      },
      "execution_count": 67,
      "outputs": [
        {
          "output_type": "stream",
          "name": "stdout",
          "text": [
            "Predictions for AND Gate: [0. 0. 0. 1.]\n",
            "Predictions for OR Gate: [0. 1. 1. 1.]\n"
          ]
        }
      ]
    },
    {
      "cell_type": "code",
      "source": [
        "# Write programfor implementing Backpropagation Learning.\n",
        "import numpy as np\n",
        "\n",
        "def sigmoid(x):\n",
        "    return 1 / (1 + np.exp(-x))\n",
        "\n",
        "def sigmoid_derivative(x):\n",
        "    return x * (1 - x)\n",
        "\n",
        "inputs = np.array([[0, 0], [0, 1], [1, 0], [1, 1]])\n",
        "labels_xor = np.array([[0], [1], [1], [0]])\n",
        "\n",
        "input_neurons, hidden_neurons, output_neurons = 2, 2, 1\n",
        "learning_rate, epochs = 0.5, 10000\n",
        "\n",
        "weights_input_hidden = np.random.uniform(size=(input_neurons, hidden_neurons))\n",
        "weights_hidden_output = np.random.uniform(size=(hidden_neurons, output_neurons))\n",
        "bias_hidden = np.random.uniform(size=(1, hidden_neurons))\n",
        "bias_output = np.random.uniform(size=(1, output_neurons))\n",
        "\n",
        "for _ in range(epochs):\n",
        "    hidden_input = np.dot(inputs, weights_input_hidden) + bias_hidden\n",
        "    hidden_output = sigmoid(hidden_input)\n",
        "\n",
        "    final_input = np.dot(hidden_output, weights_hidden_output) + bias_output\n",
        "    predicted_output = sigmoid(final_input)\n",
        "\n",
        "    output_error = labels_xor - predicted_output\n",
        "    d_output = output_error * sigmoid_derivative(predicted_output)\n",
        "\n",
        "    hidden_error = d_output.dot(weights_hidden_output.T)\n",
        "    d_hidden = hidden_error * sigmoid_derivative(hidden_output)\n",
        "\n",
        "    weights_hidden_output += hidden_output.T.dot(d_output) * learning_rate\n",
        "    bias_output += np.sum(d_output, axis=0, keepdims=True) * learning_rate\n",
        "    weights_input_hidden += inputs.T.dot(d_hidden) * learning_rate\n",
        "    bias_hidden += np.sum(d_hidden, axis=0, keepdims=True) * learning_rate\n",
        "\n",
        "print(\"Training complete for XOR using Backpropagation.\")\n",
        "print(\"Predicted Output after training:\")\n",
        "print(predicted_output.round())\n",
        "\n"
      ],
      "metadata": {
        "colab": {
          "base_uri": "https://localhost:8080/"
        },
        "id": "0TZfUYjvEaKL",
        "outputId": "c3cd8e49-6441-4a94-f6e0-14b52b303513"
      },
      "execution_count": 81,
      "outputs": [
        {
          "output_type": "stream",
          "name": "stdout",
          "text": [
            "Training complete for XOR using Backpropagation.\n",
            "Predicted Output after training:\n",
            "[[0.]\n",
            " [1.]\n",
            " [1.]\n",
            " [0.]]\n"
          ]
        }
      ]
    },
    {
      "cell_type": "markdown",
      "source": [
        "# Lab 5 - Applications of AI"
      ],
      "metadata": {
        "id": "HE6CVehQN2fi"
      }
    },
    {
      "cell_type": "code",
      "source": [
        "# Weather Prediction Algorithm\n",
        "\n",
        "import numpy as np\n",
        "import pandas as pd\n",
        "from sklearn.tree import DecisionTreeClassifier\n",
        "from sklearn.preprocessing import LabelEncoder\n",
        "\n",
        "data = {\n",
        "    'Outlook': ['Sunny', 'Sunny', 'Overcast', 'Rain', 'Rain', 'Rain', 'Overcast', 'Sunny', 'Sunny', 'Rain', 'Sunny', 'Overcast', 'Overcast', 'Rain'],\n",
        "    'Temperature': ['Hot', 'Hot', 'Hot', 'Mild', 'Cool', 'Cool', 'Cool', 'Mild', 'Cool', 'Mild', 'Mild', 'Mild', 'Hot', 'Mild'],\n",
        "    'Humidity': ['High', 'High', 'High', 'High', 'Normal', 'Normal', 'Normal', 'High', 'Normal', 'Normal', 'Normal', 'High', 'Normal', 'High'],\n",
        "    'Windy': ['False', 'True', 'False', 'False', 'False', 'True', 'True', 'False', 'False', 'False', 'True', 'True', 'False', 'True'],\n",
        "    'Play': ['No', 'No', 'Yes', 'Yes', 'Yes', 'No', 'Yes', 'No', 'Yes', 'Yes', 'Yes', 'Yes', 'Yes', 'No']\n",
        "}\n",
        "\n",
        "df = pd.DataFrame(data)\n",
        "label_encoders = {}\n",
        "\n",
        "for column in df.columns:\n",
        "    le = LabelEncoder()\n",
        "    df[column] = le.fit_transform(df[column])\n",
        "    label_encoders[column] = le\n",
        "\n",
        "X = df.drop('Play', axis=1)\n",
        "y = df['Play']\n",
        "\n",
        "classifier = DecisionTreeClassifier()\n",
        "classifier.fit(X, y)\n",
        "def predict_weather(outlook, temperature, humidity, windy):\n",
        "    encoded_inputs = [\n",
        "        label_encoders['Outlook'].transform([outlook])[0],\n",
        "        label_encoders['Temperature'].transform([temperature])[0],\n",
        "        label_encoders['Humidity'].transform([humidity])[0],\n",
        "        label_encoders['Windy'].transform([windy])[0]\n",
        "    ]\n",
        "    prediction = classifier.predict([encoded_inputs])[0]\n",
        "    return label_encoders['Play'].inverse_transform([prediction])[0]"
      ],
      "metadata": {
        "id": "mEZxdwcZE-Yc"
      },
      "execution_count": 71,
      "outputs": []
    },
    {
      "cell_type": "code",
      "source": [
        "outlook, temperature, humidity, windy = 'Sunny', 'Cool', 'High', 'True'\n",
        "print(f\"Weather conditions: Outlook={outlook}, Temperature={temperature}, Humidity={humidity}, Windy={windy}\")\n",
        "print(\"Prediction:\", predict_weather(outlook, temperature, humidity, windy))\n"
      ],
      "metadata": {
        "colab": {
          "base_uri": "https://localhost:8080/"
        },
        "id": "7pomFiiFHb7P",
        "outputId": "e8ac72fe-20e3-4024-b1fd-3ddc729ed8a8"
      },
      "execution_count": 72,
      "outputs": [
        {
          "output_type": "stream",
          "name": "stdout",
          "text": [
            "Weather conditions: Outlook=Sunny, Temperature=Cool, Humidity=High, Windy=True\n",
            "Prediction: No\n"
          ]
        },
        {
          "output_type": "stream",
          "name": "stderr",
          "text": [
            "/usr/local/lib/python3.10/dist-packages/sklearn/base.py:493: UserWarning: X does not have valid feature names, but DecisionTreeClassifier was fitted with feature names\n",
            "  warnings.warn(\n"
          ]
        }
      ]
    },
    {
      "cell_type": "code",
      "source": [
        "# Use library tools like NLTK to illustrate concepts of Natural Language Processing.\n",
        "import nltk\n",
        "from nltk.tokenize import word_tokenize, sent_tokenize\n",
        "from nltk.corpus import stopwords\n",
        "from nltk.stem import PorterStemmer, WordNetLemmatizer\n",
        "\n",
        "nltk.download('punkt')\n",
        "nltk.download('stopwords')\n",
        "nltk.download('wordnet')\n",
        "nltk.download('averaged_perceptron_tagger')\n",
        "\n",
        "\n",
        "# Example text\n",
        "text = \"Natural Language Processing is a fascinating field of artificial intelligence. It's used in chatbots, translators, and search engines.\"\n",
        "\n",
        "# Split text into sentences\n",
        "sentences = sent_tokenize(text)\n",
        "print(\"Sentences:\", sentences)\n",
        "\n",
        "# Split text into words\n",
        "words = word_tokenize(text)\n",
        "print(\"Words:\", words)\n",
        "\n",
        "### Stopwords Removal\n",
        "stop_words = set(stopwords.words(\"english\"))\n",
        "filtered_words = [word for word in words if word.lower() not in stop_words]\n",
        "print(\"Filtered Words:\", filtered_words)\n",
        "\n",
        "# Reduce words to their root form\n",
        "stemmer = PorterStemmer()\n",
        "stemmed_words = [stemmer.stem(word) for word in filtered_words]\n",
        "print(\"Stemmed Words:\", stemmed_words)\n",
        "\n",
        "# Lemmatize words for proper root form\n",
        "lemmatizer = WordNetLemmatizer()\n",
        "lemmatized_words = [lemmatizer.lemmatize(word) for word in filtered_words]\n",
        "print(\"Lemmatized Words:\", lemmatized_words)\n",
        "\n",
        "# Identify parts of speech in the text\n",
        "pos_tags = nltk.pos_tag(words)\n",
        "print(\"POS Tags:\", pos_tags)\n"
      ],
      "metadata": {
        "colab": {
          "base_uri": "https://localhost:8080/"
        },
        "id": "50ndpT0RHq9g",
        "outputId": "9a261c93-70b5-49dc-ce76-31ff7f4e4619"
      },
      "execution_count": 76,
      "outputs": [
        {
          "output_type": "stream",
          "name": "stdout",
          "text": [
            "Sentences: ['Natural Language Processing is a fascinating field of artificial intelligence.', \"It's used in chatbots, translators, and search engines.\"]\n",
            "Words: ['Natural', 'Language', 'Processing', 'is', 'a', 'fascinating', 'field', 'of', 'artificial', 'intelligence', '.', 'It', \"'s\", 'used', 'in', 'chatbots', ',', 'translators', ',', 'and', 'search', 'engines', '.']\n",
            "Filtered Words: ['Natural', 'Language', 'Processing', 'fascinating', 'field', 'artificial', 'intelligence', '.', \"'s\", 'used', 'chatbots', ',', 'translators', ',', 'search', 'engines', '.']\n",
            "Stemmed Words: ['natur', 'languag', 'process', 'fascin', 'field', 'artifici', 'intellig', '.', \"'s\", 'use', 'chatbot', ',', 'translat', ',', 'search', 'engin', '.']\n",
            "Lemmatized Words: ['Natural', 'Language', 'Processing', 'fascinating', 'field', 'artificial', 'intelligence', '.', \"'s\", 'used', 'chatbots', ',', 'translator', ',', 'search', 'engine', '.']\n",
            "POS Tags: [('Natural', 'JJ'), ('Language', 'NNP'), ('Processing', 'NNP'), ('is', 'VBZ'), ('a', 'DT'), ('fascinating', 'JJ'), ('field', 'NN'), ('of', 'IN'), ('artificial', 'JJ'), ('intelligence', 'NN'), ('.', '.'), ('It', 'PRP'), (\"'s\", 'VBZ'), ('used', 'VBN'), ('in', 'IN'), ('chatbots', 'NNS'), (',', ','), ('translators', 'NNS'), (',', ','), ('and', 'CC'), ('search', 'NN'), ('engines', 'NNS'), ('.', '.')]\n"
          ]
        },
        {
          "output_type": "stream",
          "name": "stderr",
          "text": [
            "[nltk_data] Downloading package punkt to /root/nltk_data...\n",
            "[nltk_data]   Package punkt is already up-to-date!\n",
            "[nltk_data] Downloading package stopwords to /root/nltk_data...\n",
            "[nltk_data]   Package stopwords is already up-to-date!\n",
            "[nltk_data] Downloading package wordnet to /root/nltk_data...\n",
            "[nltk_data]   Package wordnet is already up-to-date!\n",
            "[nltk_data] Downloading package averaged_perceptron_tagger to\n",
            "[nltk_data]     /root/nltk_data...\n",
            "[nltk_data]   Package averaged_perceptron_tagger is already up-to-\n",
            "[nltk_data]       date!\n"
          ]
        }
      ]
    }
  ]
}